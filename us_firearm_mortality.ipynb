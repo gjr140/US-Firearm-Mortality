{
 "cells": [
  {
   "cell_type": "code",
   "execution_count": 1,
   "id": "26f98d22-10ed-4831-a700-64abd782e707",
   "metadata": {},
   "outputs": [],
   "source": [
    "import pandas as pd\n",
    "import numpy as np\n",
    "import seaborn as sns\n",
    "import matplotlib.pyplot as plt"
   ]
  },
  {
   "cell_type": "code",
   "execution_count": 2,
   "id": "aac4a2b5-57a3-4bc5-8d6c-665b71e478b9",
   "metadata": {},
   "outputs": [],
   "source": [
    "df = pd.read_csv(r'C:\\Users\\gjrre\\Documents\\Python Project\\Firearm Mortality\\data-table1.csv')"
   ]
  },
  {
   "cell_type": "code",
   "execution_count": 3,
   "id": "99a541ca-fad3-4c33-82d4-54b3f2377c13",
   "metadata": {},
   "outputs": [
    {
     "data": {
      "text/html": [
       "<div>\n",
       "<style scoped>\n",
       "    .dataframe tbody tr th:only-of-type {\n",
       "        vertical-align: middle;\n",
       "    }\n",
       "\n",
       "    .dataframe tbody tr th {\n",
       "        vertical-align: top;\n",
       "    }\n",
       "\n",
       "    .dataframe thead th {\n",
       "        text-align: right;\n",
       "    }\n",
       "</style>\n",
       "<table border=\"1\" class=\"dataframe\">\n",
       "  <thead>\n",
       "    <tr style=\"text-align: right;\">\n",
       "      <th></th>\n",
       "      <th>YEAR</th>\n",
       "      <th>STATE</th>\n",
       "      <th>RATE</th>\n",
       "      <th>DEATHS</th>\n",
       "      <th>URL</th>\n",
       "    </tr>\n",
       "  </thead>\n",
       "  <tbody>\n",
       "    <tr>\n",
       "      <th>0</th>\n",
       "      <td>2020</td>\n",
       "      <td>AL</td>\n",
       "      <td>23.6</td>\n",
       "      <td>1141</td>\n",
       "      <td>/nchs/pressroom/states/alabama/al.htm</td>\n",
       "    </tr>\n",
       "    <tr>\n",
       "      <th>1</th>\n",
       "      <td>2020</td>\n",
       "      <td>AK</td>\n",
       "      <td>23.5</td>\n",
       "      <td>175</td>\n",
       "      <td>/nchs/pressroom/states/alaska/ak.htm</td>\n",
       "    </tr>\n",
       "    <tr>\n",
       "      <th>2</th>\n",
       "      <td>2020</td>\n",
       "      <td>AZ</td>\n",
       "      <td>16.7</td>\n",
       "      <td>1265</td>\n",
       "      <td>/nchs/pressroom/states/arizona/az.htm</td>\n",
       "    </tr>\n",
       "    <tr>\n",
       "      <th>3</th>\n",
       "      <td>2020</td>\n",
       "      <td>AR</td>\n",
       "      <td>22.6</td>\n",
       "      <td>673</td>\n",
       "      <td>/nchs/pressroom/states/arkansas/ar.htm</td>\n",
       "    </tr>\n",
       "    <tr>\n",
       "      <th>4</th>\n",
       "      <td>2020</td>\n",
       "      <td>CA</td>\n",
       "      <td>8.5</td>\n",
       "      <td>3449</td>\n",
       "      <td>/nchs/pressroom/states/california/ca.htm</td>\n",
       "    </tr>\n",
       "    <tr>\n",
       "      <th>...</th>\n",
       "      <td>...</td>\n",
       "      <td>...</td>\n",
       "      <td>...</td>\n",
       "      <td>...</td>\n",
       "      <td>...</td>\n",
       "    </tr>\n",
       "    <tr>\n",
       "      <th>395</th>\n",
       "      <td>2005</td>\n",
       "      <td>VA</td>\n",
       "      <td>11.5</td>\n",
       "      <td>888</td>\n",
       "      <td>/nchs/pressroom/states/virginia/virginia.htm</td>\n",
       "    </tr>\n",
       "    <tr>\n",
       "      <th>396</th>\n",
       "      <td>2005</td>\n",
       "      <td>WA</td>\n",
       "      <td>8.8</td>\n",
       "      <td>567</td>\n",
       "      <td>/nchs/pressroom/states/washington/washington.htm</td>\n",
       "    </tr>\n",
       "    <tr>\n",
       "      <th>397</th>\n",
       "      <td>2005</td>\n",
       "      <td>WV</td>\n",
       "      <td>13.8</td>\n",
       "      <td>261</td>\n",
       "      <td>/nchs/pressroom/states/westvirginia/westvirgin...</td>\n",
       "    </tr>\n",
       "    <tr>\n",
       "      <th>398</th>\n",
       "      <td>2005</td>\n",
       "      <td>WI</td>\n",
       "      <td>8.5</td>\n",
       "      <td>474</td>\n",
       "      <td>/nchs/pressroom/states/wisconsin/wisconsin.htm</td>\n",
       "    </tr>\n",
       "    <tr>\n",
       "      <th>399</th>\n",
       "      <td>2005</td>\n",
       "      <td>WY</td>\n",
       "      <td>13.4</td>\n",
       "      <td>71</td>\n",
       "      <td>/nchs/pressroom/states/wyoming/wyoming.htm</td>\n",
       "    </tr>\n",
       "  </tbody>\n",
       "</table>\n",
       "<p>400 rows × 5 columns</p>\n",
       "</div>"
      ],
      "text/plain": [
       "     YEAR STATE  RATE  DEATHS  \\\n",
       "0    2020    AL  23.6    1141   \n",
       "1    2020    AK  23.5     175   \n",
       "2    2020    AZ  16.7    1265   \n",
       "3    2020    AR  22.6     673   \n",
       "4    2020    CA   8.5    3449   \n",
       "..    ...   ...   ...     ...   \n",
       "395  2005    VA  11.5     888   \n",
       "396  2005    WA   8.8     567   \n",
       "397  2005    WV  13.8     261   \n",
       "398  2005    WI   8.5     474   \n",
       "399  2005    WY  13.4      71   \n",
       "\n",
       "                                                   URL  \n",
       "0                /nchs/pressroom/states/alabama/al.htm  \n",
       "1                 /nchs/pressroom/states/alaska/ak.htm  \n",
       "2                /nchs/pressroom/states/arizona/az.htm  \n",
       "3               /nchs/pressroom/states/arkansas/ar.htm  \n",
       "4             /nchs/pressroom/states/california/ca.htm  \n",
       "..                                                 ...  \n",
       "395       /nchs/pressroom/states/virginia/virginia.htm  \n",
       "396   /nchs/pressroom/states/washington/washington.htm  \n",
       "397  /nchs/pressroom/states/westvirginia/westvirgin...  \n",
       "398     /nchs/pressroom/states/wisconsin/wisconsin.htm  \n",
       "399         /nchs/pressroom/states/wyoming/wyoming.htm  \n",
       "\n",
       "[400 rows x 5 columns]"
      ]
     },
     "execution_count": 3,
     "metadata": {},
     "output_type": "execute_result"
    }
   ],
   "source": [
    "df"
   ]
  },
  {
   "cell_type": "code",
   "execution_count": 4,
   "id": "afa447dc-6c13-4808-b26f-93c0b577dd13",
   "metadata": {},
   "outputs": [],
   "source": [
    "'''\n",
    "Data is taken from the CDC regarding Firearm Mortality by State\n",
    "The data covers sequential years 2014 - 2020\n",
    "2005 data is also included in the data set, but because it's an outlier, I remove 2005\n",
    "'''\n",
    "\n",
    "df1 = df[df['YEAR'] > 2005]"
   ]
  },
  {
   "cell_type": "code",
   "execution_count": 5,
   "id": "f72ba2d2-caf2-4bb6-9e4b-094ecd11a6d9",
   "metadata": {},
   "outputs": [
    {
     "data": {
      "text/html": [
       "<div>\n",
       "<style scoped>\n",
       "    .dataframe tbody tr th:only-of-type {\n",
       "        vertical-align: middle;\n",
       "    }\n",
       "\n",
       "    .dataframe tbody tr th {\n",
       "        vertical-align: top;\n",
       "    }\n",
       "\n",
       "    .dataframe thead th {\n",
       "        text-align: right;\n",
       "    }\n",
       "</style>\n",
       "<table border=\"1\" class=\"dataframe\">\n",
       "  <thead>\n",
       "    <tr style=\"text-align: right;\">\n",
       "      <th></th>\n",
       "      <th>YEAR</th>\n",
       "      <th>STATE</th>\n",
       "      <th>RATE</th>\n",
       "      <th>DEATHS</th>\n",
       "      <th>URL</th>\n",
       "    </tr>\n",
       "  </thead>\n",
       "  <tbody>\n",
       "    <tr>\n",
       "      <th>0</th>\n",
       "      <td>2020</td>\n",
       "      <td>AL</td>\n",
       "      <td>23.6</td>\n",
       "      <td>1141</td>\n",
       "      <td>/nchs/pressroom/states/alabama/al.htm</td>\n",
       "    </tr>\n",
       "    <tr>\n",
       "      <th>1</th>\n",
       "      <td>2020</td>\n",
       "      <td>AK</td>\n",
       "      <td>23.5</td>\n",
       "      <td>175</td>\n",
       "      <td>/nchs/pressroom/states/alaska/ak.htm</td>\n",
       "    </tr>\n",
       "    <tr>\n",
       "      <th>2</th>\n",
       "      <td>2020</td>\n",
       "      <td>AZ</td>\n",
       "      <td>16.7</td>\n",
       "      <td>1265</td>\n",
       "      <td>/nchs/pressroom/states/arizona/az.htm</td>\n",
       "    </tr>\n",
       "    <tr>\n",
       "      <th>3</th>\n",
       "      <td>2020</td>\n",
       "      <td>AR</td>\n",
       "      <td>22.6</td>\n",
       "      <td>673</td>\n",
       "      <td>/nchs/pressroom/states/arkansas/ar.htm</td>\n",
       "    </tr>\n",
       "    <tr>\n",
       "      <th>4</th>\n",
       "      <td>2020</td>\n",
       "      <td>CA</td>\n",
       "      <td>8.5</td>\n",
       "      <td>3449</td>\n",
       "      <td>/nchs/pressroom/states/california/ca.htm</td>\n",
       "    </tr>\n",
       "    <tr>\n",
       "      <th>...</th>\n",
       "      <td>...</td>\n",
       "      <td>...</td>\n",
       "      <td>...</td>\n",
       "      <td>...</td>\n",
       "      <td>...</td>\n",
       "    </tr>\n",
       "    <tr>\n",
       "      <th>345</th>\n",
       "      <td>2014</td>\n",
       "      <td>VA</td>\n",
       "      <td>10.3</td>\n",
       "      <td>889</td>\n",
       "      <td>/nchs/pressroom/states/virginia/virginia.htm</td>\n",
       "    </tr>\n",
       "    <tr>\n",
       "      <th>346</th>\n",
       "      <td>2014</td>\n",
       "      <td>WA</td>\n",
       "      <td>9.7</td>\n",
       "      <td>702</td>\n",
       "      <td>/nchs/pressroom/states/washington/washington.htm</td>\n",
       "    </tr>\n",
       "    <tr>\n",
       "      <th>347</th>\n",
       "      <td>2014</td>\n",
       "      <td>WV</td>\n",
       "      <td>14.6</td>\n",
       "      <td>286</td>\n",
       "      <td>/nchs/pressroom/states/westvirginia/westvirgin...</td>\n",
       "    </tr>\n",
       "    <tr>\n",
       "      <th>348</th>\n",
       "      <td>2014</td>\n",
       "      <td>WI</td>\n",
       "      <td>8.2</td>\n",
       "      <td>487</td>\n",
       "      <td>/nchs/pressroom/states/wisconsin/wisconsin.htm</td>\n",
       "    </tr>\n",
       "    <tr>\n",
       "      <th>349</th>\n",
       "      <td>2014</td>\n",
       "      <td>WY</td>\n",
       "      <td>16.2</td>\n",
       "      <td>93</td>\n",
       "      <td>/nchs/pressroom/states/wyoming/wyoming.htm</td>\n",
       "    </tr>\n",
       "  </tbody>\n",
       "</table>\n",
       "<p>350 rows × 5 columns</p>\n",
       "</div>"
      ],
      "text/plain": [
       "     YEAR STATE  RATE  DEATHS  \\\n",
       "0    2020    AL  23.6    1141   \n",
       "1    2020    AK  23.5     175   \n",
       "2    2020    AZ  16.7    1265   \n",
       "3    2020    AR  22.6     673   \n",
       "4    2020    CA   8.5    3449   \n",
       "..    ...   ...   ...     ...   \n",
       "345  2014    VA  10.3     889   \n",
       "346  2014    WA   9.7     702   \n",
       "347  2014    WV  14.6     286   \n",
       "348  2014    WI   8.2     487   \n",
       "349  2014    WY  16.2      93   \n",
       "\n",
       "                                                   URL  \n",
       "0                /nchs/pressroom/states/alabama/al.htm  \n",
       "1                 /nchs/pressroom/states/alaska/ak.htm  \n",
       "2                /nchs/pressroom/states/arizona/az.htm  \n",
       "3               /nchs/pressroom/states/arkansas/ar.htm  \n",
       "4             /nchs/pressroom/states/california/ca.htm  \n",
       "..                                                 ...  \n",
       "345       /nchs/pressroom/states/virginia/virginia.htm  \n",
       "346   /nchs/pressroom/states/washington/washington.htm  \n",
       "347  /nchs/pressroom/states/westvirginia/westvirgin...  \n",
       "348     /nchs/pressroom/states/wisconsin/wisconsin.htm  \n",
       "349         /nchs/pressroom/states/wyoming/wyoming.htm  \n",
       "\n",
       "[350 rows x 5 columns]"
      ]
     },
     "execution_count": 5,
     "metadata": {},
     "output_type": "execute_result"
    }
   ],
   "source": [
    "df1"
   ]
  },
  {
   "cell_type": "code",
   "execution_count": 6,
   "id": "e78cdb26-6fa1-44be-95e8-e4fa8ac44cb1",
   "metadata": {},
   "outputs": [],
   "source": [
    "df_AL = df1[df1['STATE'] == 'AL']"
   ]
  },
  {
   "cell_type": "code",
   "execution_count": 7,
   "id": "0cc9a0ea-5833-433b-9a86-cd0066cfb9ce",
   "metadata": {},
   "outputs": [
    {
     "data": {
      "text/html": [
       "<div>\n",
       "<style scoped>\n",
       "    .dataframe tbody tr th:only-of-type {\n",
       "        vertical-align: middle;\n",
       "    }\n",
       "\n",
       "    .dataframe tbody tr th {\n",
       "        vertical-align: top;\n",
       "    }\n",
       "\n",
       "    .dataframe thead th {\n",
       "        text-align: right;\n",
       "    }\n",
       "</style>\n",
       "<table border=\"1\" class=\"dataframe\">\n",
       "  <thead>\n",
       "    <tr style=\"text-align: right;\">\n",
       "      <th></th>\n",
       "      <th>YEAR</th>\n",
       "      <th>STATE</th>\n",
       "      <th>RATE</th>\n",
       "      <th>DEATHS</th>\n",
       "      <th>URL</th>\n",
       "    </tr>\n",
       "  </thead>\n",
       "  <tbody>\n",
       "    <tr>\n",
       "      <th>0</th>\n",
       "      <td>2020</td>\n",
       "      <td>AL</td>\n",
       "      <td>23.6</td>\n",
       "      <td>1141</td>\n",
       "      <td>/nchs/pressroom/states/alabama/al.htm</td>\n",
       "    </tr>\n",
       "    <tr>\n",
       "      <th>50</th>\n",
       "      <td>2019</td>\n",
       "      <td>AL</td>\n",
       "      <td>22.2</td>\n",
       "      <td>1076</td>\n",
       "      <td>/nchs/pressroom/states/alabama/al.htm</td>\n",
       "    </tr>\n",
       "    <tr>\n",
       "      <th>100</th>\n",
       "      <td>2018</td>\n",
       "      <td>AL</td>\n",
       "      <td>21.8</td>\n",
       "      <td>1064</td>\n",
       "      <td>/nchs/pressroom/states/alabama/al.htm</td>\n",
       "    </tr>\n",
       "    <tr>\n",
       "      <th>150</th>\n",
       "      <td>2017</td>\n",
       "      <td>AL</td>\n",
       "      <td>22.9</td>\n",
       "      <td>1124</td>\n",
       "      <td>/nchs/pressroom/states/alabama/alabama.htm</td>\n",
       "    </tr>\n",
       "    <tr>\n",
       "      <th>200</th>\n",
       "      <td>2016</td>\n",
       "      <td>AL</td>\n",
       "      <td>21.5</td>\n",
       "      <td>1046</td>\n",
       "      <td>/nchs/pressroom/states/alabama/alabama.htm</td>\n",
       "    </tr>\n",
       "    <tr>\n",
       "      <th>250</th>\n",
       "      <td>2015</td>\n",
       "      <td>AL</td>\n",
       "      <td>19.6</td>\n",
       "      <td>958</td>\n",
       "      <td>/nchs/pressroom/states/alabama/alabama.htm</td>\n",
       "    </tr>\n",
       "    <tr>\n",
       "      <th>300</th>\n",
       "      <td>2014</td>\n",
       "      <td>AL</td>\n",
       "      <td>16.9</td>\n",
       "      <td>815</td>\n",
       "      <td>/nchs/pressroom/states/alabama/alabama.htm</td>\n",
       "    </tr>\n",
       "  </tbody>\n",
       "</table>\n",
       "</div>"
      ],
      "text/plain": [
       "     YEAR STATE  RATE  DEATHS                                         URL\n",
       "0    2020    AL  23.6    1141       /nchs/pressroom/states/alabama/al.htm\n",
       "50   2019    AL  22.2    1076       /nchs/pressroom/states/alabama/al.htm\n",
       "100  2018    AL  21.8    1064       /nchs/pressroom/states/alabama/al.htm\n",
       "150  2017    AL  22.9    1124  /nchs/pressroom/states/alabama/alabama.htm\n",
       "200  2016    AL  21.5    1046  /nchs/pressroom/states/alabama/alabama.htm\n",
       "250  2015    AL  19.6     958  /nchs/pressroom/states/alabama/alabama.htm\n",
       "300  2014    AL  16.9     815  /nchs/pressroom/states/alabama/alabama.htm"
      ]
     },
     "execution_count": 7,
     "metadata": {},
     "output_type": "execute_result"
    }
   ],
   "source": [
    "df_AL"
   ]
  },
  {
   "cell_type": "code",
   "execution_count": 8,
   "id": "3f923bbf-25cc-4ada-a3f2-8d05c1bac99f",
   "metadata": {},
   "outputs": [
    {
     "data": {
      "text/plain": [
       "[Text(0.5, 1.0, 'Range and Median Firearm Deaths by State from 2014 - 2020')]"
      ]
     },
     "execution_count": 8,
     "metadata": {},
     "output_type": "execute_result"
    },
    {
     "data": {
      "image/png": "[encoded data removed]",
      "text/plain": [
       "<Figure size 1440x720 with 1 Axes>"
      ]
     },
     "metadata": {
      "needs_background": "light"
     },
     "output_type": "display_data"
    }
   ],
   "source": [
    "'''\n",
    "Visualizing the range of firearm death by state from 2014 - 2020\n",
    "'''\n",
    "\n",
    "plt.figure(figsize = (20,10))\n",
    "sns.boxplot(data = df1, \n",
    "            x = 'STATE', \n",
    "            y = 'DEATHS',\n",
    "            orient = 'v',\n",
    "           showfliers = False).set(title = 'Range and Median Firearm Deaths by State from 2014 - 2020')"
   ]
  },
  {
   "cell_type": "code",
   "execution_count": 9,
   "id": "51b97c4c-94c4-4d11-8a22-a1a9236bb784",
   "metadata": {},
   "outputs": [
    {
     "data": {
      "text/plain": [
       "[Text(0.5, 1.0, 'Alabama Firearm Deaths Range, Median, and Average from 2014 -2020')]"
      ]
     },
     "execution_count": 9,
     "metadata": {},
     "output_type": "execute_result"
    },
    {
     "data": {
      "image/png": "[encoded data removed]",
      "text/plain": [
       "<Figure size 432x288 with 1 Axes>"
      ]
     },
     "metadata": {
      "needs_background": "light"
     },
     "output_type": "display_data"
    }
   ],
   "source": [
    "'''\n",
    "Visualizing the mean number of firearm deaths in Alabama from 2014 - 2020\n",
    "'''\n",
    "\n",
    "sns.boxplot(data = df_AL, \n",
    "            x = 'STATE', \n",
    "            y = 'DEATHS',\n",
    "            orient = 'v',\n",
    "           showmeans = True,\n",
    "           showfliers = False).set(title = 'Alabama Firearm Deaths Range, Median, and Average from 2014 -2020')"
   ]
  },
  {
   "cell_type": "code",
   "execution_count": 10,
   "id": "2cd92841-46fc-4a89-832e-0ee10b0716f6",
   "metadata": {},
   "outputs": [
    {
     "data": {
      "text/plain": [
       "[Text(0.5, 1.0, 'Range and Median Rate of Deaths by State')]"
      ]
     },
     "execution_count": 10,
     "metadata": {},
     "output_type": "execute_result"
    },
    {
     "data": {
      "image/png": "[encoded data removed]",
      "text/plain": [
       "<Figure size 1440x720 with 1 Axes>"
      ]
     },
     "metadata": {
      "needs_background": "light"
     },
     "output_type": "display_data"
    }
   ],
   "source": [
    "'''\n",
    "Visualizing the range of firearm death by state from 2014 - 2020\n",
    "'''\n",
    "\n",
    "plt.figure(figsize = (20,10))\n",
    "sns.boxplot(data = df1, \n",
    "            x = 'STATE', \n",
    "            y = 'RATE',\n",
    "            orient = 'v',\n",
    "           showfliers = False).set(title = 'Range and Median Rate of Deaths by State')"
   ]
  },
  {
   "cell_type": "code",
   "execution_count": 11,
   "id": "60911103-03fa-4b5e-8d3a-d470e3917100",
   "metadata": {},
   "outputs": [
    {
     "data": {
      "text/html": [
       "<div>\n",
       "<style scoped>\n",
       "    .dataframe tbody tr th:only-of-type {\n",
       "        vertical-align: middle;\n",
       "    }\n",
       "\n",
       "    .dataframe tbody tr th {\n",
       "        vertical-align: top;\n",
       "    }\n",
       "\n",
       "    .dataframe thead th {\n",
       "        text-align: right;\n",
       "    }\n",
       "</style>\n",
       "<table border=\"1\" class=\"dataframe\">\n",
       "  <thead>\n",
       "    <tr style=\"text-align: right;\">\n",
       "      <th></th>\n",
       "      <th>YEAR</th>\n",
       "      <th>STATE</th>\n",
       "      <th>RATE</th>\n",
       "      <th>DEATHS</th>\n",
       "      <th>URL</th>\n",
       "    </tr>\n",
       "  </thead>\n",
       "  <tbody>\n",
       "    <tr>\n",
       "      <th>0</th>\n",
       "      <td>2020</td>\n",
       "      <td>AL</td>\n",
       "      <td>23.6</td>\n",
       "      <td>1141</td>\n",
       "      <td>/nchs/pressroom/states/alabama/al.htm</td>\n",
       "    </tr>\n",
       "    <tr>\n",
       "      <th>50</th>\n",
       "      <td>2019</td>\n",
       "      <td>AL</td>\n",
       "      <td>22.2</td>\n",
       "      <td>1076</td>\n",
       "      <td>/nchs/pressroom/states/alabama/al.htm</td>\n",
       "    </tr>\n",
       "    <tr>\n",
       "      <th>100</th>\n",
       "      <td>2018</td>\n",
       "      <td>AL</td>\n",
       "      <td>21.8</td>\n",
       "      <td>1064</td>\n",
       "      <td>/nchs/pressroom/states/alabama/al.htm</td>\n",
       "    </tr>\n",
       "    <tr>\n",
       "      <th>150</th>\n",
       "      <td>2017</td>\n",
       "      <td>AL</td>\n",
       "      <td>22.9</td>\n",
       "      <td>1124</td>\n",
       "      <td>/nchs/pressroom/states/alabama/alabama.htm</td>\n",
       "    </tr>\n",
       "    <tr>\n",
       "      <th>200</th>\n",
       "      <td>2016</td>\n",
       "      <td>AL</td>\n",
       "      <td>21.5</td>\n",
       "      <td>1046</td>\n",
       "      <td>/nchs/pressroom/states/alabama/alabama.htm</td>\n",
       "    </tr>\n",
       "    <tr>\n",
       "      <th>250</th>\n",
       "      <td>2015</td>\n",
       "      <td>AL</td>\n",
       "      <td>19.6</td>\n",
       "      <td>958</td>\n",
       "      <td>/nchs/pressroom/states/alabama/alabama.htm</td>\n",
       "    </tr>\n",
       "    <tr>\n",
       "      <th>300</th>\n",
       "      <td>2014</td>\n",
       "      <td>AL</td>\n",
       "      <td>16.9</td>\n",
       "      <td>815</td>\n",
       "      <td>/nchs/pressroom/states/alabama/alabama.htm</td>\n",
       "    </tr>\n",
       "  </tbody>\n",
       "</table>\n",
       "</div>"
      ],
      "text/plain": [
       "     YEAR STATE  RATE  DEATHS                                         URL\n",
       "0    2020    AL  23.6    1141       /nchs/pressroom/states/alabama/al.htm\n",
       "50   2019    AL  22.2    1076       /nchs/pressroom/states/alabama/al.htm\n",
       "100  2018    AL  21.8    1064       /nchs/pressroom/states/alabama/al.htm\n",
       "150  2017    AL  22.9    1124  /nchs/pressroom/states/alabama/alabama.htm\n",
       "200  2016    AL  21.5    1046  /nchs/pressroom/states/alabama/alabama.htm\n",
       "250  2015    AL  19.6     958  /nchs/pressroom/states/alabama/alabama.htm\n",
       "300  2014    AL  16.9     815  /nchs/pressroom/states/alabama/alabama.htm"
      ]
     },
     "execution_count": 11,
     "metadata": {},
     "output_type": "execute_result"
    }
   ],
   "source": [
    "df_AL"
   ]
  },
  {
   "cell_type": "code",
   "execution_count": 12,
   "id": "12c1ac71-bb6d-49e2-9a88-c8058a1ff369",
   "metadata": {},
   "outputs": [
    {
     "data": {
      "image/png": "[encoded data removed]",
      "text/plain": [
       "<Figure size 432x288 with 1 Axes>"
      ]
     },
     "metadata": {
      "needs_background": "light"
     },
     "output_type": "display_data"
    }
   ],
   "source": [
    "x = (df_AL['YEAR'])\n",
    "y = (df_AL['RATE'])\n",
    "\n",
    "'''\n",
    "multiple ways to get rid of spines, via Matplotlib you do the following:\n",
    "ax = plt.gca()\n",
    "ax.spines['top'].set_visible(False)\n",
    "ax.spines['right'].set_visible(False)\n",
    "'''\n",
    "\n",
    "plt.plot(x, y, color = 'maroon')\n",
    "plt.xlabel(\"Year\")\n",
    "plt.ylabel(\"Rate of Deaths\")\n",
    "plt.title(\"Alabama Rate of Deaths by Firearm\")\n",
    "sns.despine() # shortcut to get rid of top and right\n",
    "plt.show()"
   ]
  },
  {
   "cell_type": "code",
   "execution_count": 13,
   "id": "2fcdd7f6-36ae-4413-a83e-917208377971",
   "metadata": {},
   "outputs": [],
   "source": [
    "import xgboost as xgb\n",
    "from sklearn.metrics import mean_squared_error"
   ]
  },
  {
   "cell_type": "code",
   "execution_count": 14,
   "id": "e3955d04-86ca-41ef-ac8b-fa18a765c279",
   "metadata": {},
   "outputs": [
    {
     "data": {
      "text/html": [
       "<div>\n",
       "<style scoped>\n",
       "    .dataframe tbody tr th:only-of-type {\n",
       "        vertical-align: middle;\n",
       "    }\n",
       "\n",
       "    .dataframe tbody tr th {\n",
       "        vertical-align: top;\n",
       "    }\n",
       "\n",
       "    .dataframe thead th {\n",
       "        text-align: right;\n",
       "    }\n",
       "</style>\n",
       "<table border=\"1\" class=\"dataframe\">\n",
       "  <thead>\n",
       "    <tr style=\"text-align: right;\">\n",
       "      <th></th>\n",
       "      <th>YEAR</th>\n",
       "      <th>STATE</th>\n",
       "      <th>RATE</th>\n",
       "      <th>DEATHS</th>\n",
       "      <th>URL</th>\n",
       "    </tr>\n",
       "  </thead>\n",
       "  <tbody>\n",
       "    <tr>\n",
       "      <th>0</th>\n",
       "      <td>2020</td>\n",
       "      <td>AL</td>\n",
       "      <td>23.6</td>\n",
       "      <td>1141</td>\n",
       "      <td>/nchs/pressroom/states/alabama/al.htm</td>\n",
       "    </tr>\n",
       "    <tr>\n",
       "      <th>50</th>\n",
       "      <td>2019</td>\n",
       "      <td>AL</td>\n",
       "      <td>22.2</td>\n",
       "      <td>1076</td>\n",
       "      <td>/nchs/pressroom/states/alabama/al.htm</td>\n",
       "    </tr>\n",
       "    <tr>\n",
       "      <th>100</th>\n",
       "      <td>2018</td>\n",
       "      <td>AL</td>\n",
       "      <td>21.8</td>\n",
       "      <td>1064</td>\n",
       "      <td>/nchs/pressroom/states/alabama/al.htm</td>\n",
       "    </tr>\n",
       "    <tr>\n",
       "      <th>150</th>\n",
       "      <td>2017</td>\n",
       "      <td>AL</td>\n",
       "      <td>22.9</td>\n",
       "      <td>1124</td>\n",
       "      <td>/nchs/pressroom/states/alabama/alabama.htm</td>\n",
       "    </tr>\n",
       "    <tr>\n",
       "      <th>200</th>\n",
       "      <td>2016</td>\n",
       "      <td>AL</td>\n",
       "      <td>21.5</td>\n",
       "      <td>1046</td>\n",
       "      <td>/nchs/pressroom/states/alabama/alabama.htm</td>\n",
       "    </tr>\n",
       "    <tr>\n",
       "      <th>250</th>\n",
       "      <td>2015</td>\n",
       "      <td>AL</td>\n",
       "      <td>19.6</td>\n",
       "      <td>958</td>\n",
       "      <td>/nchs/pressroom/states/alabama/alabama.htm</td>\n",
       "    </tr>\n",
       "    <tr>\n",
       "      <th>300</th>\n",
       "      <td>2014</td>\n",
       "      <td>AL</td>\n",
       "      <td>16.9</td>\n",
       "      <td>815</td>\n",
       "      <td>/nchs/pressroom/states/alabama/alabama.htm</td>\n",
       "    </tr>\n",
       "  </tbody>\n",
       "</table>\n",
       "</div>"
      ],
      "text/plain": [
       "     YEAR STATE  RATE  DEATHS                                         URL\n",
       "0    2020    AL  23.6    1141       /nchs/pressroom/states/alabama/al.htm\n",
       "50   2019    AL  22.2    1076       /nchs/pressroom/states/alabama/al.htm\n",
       "100  2018    AL  21.8    1064       /nchs/pressroom/states/alabama/al.htm\n",
       "150  2017    AL  22.9    1124  /nchs/pressroom/states/alabama/alabama.htm\n",
       "200  2016    AL  21.5    1046  /nchs/pressroom/states/alabama/alabama.htm\n",
       "250  2015    AL  19.6     958  /nchs/pressroom/states/alabama/alabama.htm\n",
       "300  2014    AL  16.9     815  /nchs/pressroom/states/alabama/alabama.htm"
      ]
     },
     "execution_count": 14,
     "metadata": {},
     "output_type": "execute_result"
    }
   ],
   "source": [
    "df_AL"
   ]
  },
  {
   "cell_type": "code",
   "execution_count": 15,
   "id": "0f6c5770-b16a-477e-97e7-bb8e38928ab9",
   "metadata": {},
   "outputs": [],
   "source": [
    "df_AL1 = df_AL.set_index('YEAR')\n",
    "df_AL2 = df_AL1[['DEATHS']]\n",
    "df_AL3 = df_AL1[['RATE']]"
   ]
  },
  {
   "cell_type": "code",
   "execution_count": 16,
   "id": "faf243ab-436c-424e-b10f-08f959eb3966",
   "metadata": {},
   "outputs": [
    {
     "data": {
      "text/html": [
       "<svg  width=\"550\" height=\"55\"><rect x=\"0\" y=\"0\" width=\"55\" height=\"55\" style=\"fill:#1f77b4;stroke-width:2;stroke:rgb(255,255,255)\"/><rect x=\"55\" y=\"0\" width=\"55\" height=\"55\" style=\"fill:#ff7f0e;stroke-width:2;stroke:rgb(255,255,255)\"/><rect x=\"110\" y=\"0\" width=\"55\" height=\"55\" style=\"fill:#2ca02c;stroke-width:2;stroke:rgb(255,255,255)\"/><rect x=\"165\" y=\"0\" width=\"55\" height=\"55\" style=\"fill:#d62728;stroke-width:2;stroke:rgb(255,255,255)\"/><rect x=\"220\" y=\"0\" width=\"55\" height=\"55\" style=\"fill:#9467bd;stroke-width:2;stroke:rgb(255,255,255)\"/><rect x=\"275\" y=\"0\" width=\"55\" height=\"55\" style=\"fill:#8c564b;stroke-width:2;stroke:rgb(255,255,255)\"/><rect x=\"330\" y=\"0\" width=\"55\" height=\"55\" style=\"fill:#e377c2;stroke-width:2;stroke:rgb(255,255,255)\"/><rect x=\"385\" y=\"0\" width=\"55\" height=\"55\" style=\"fill:#7f7f7f;stroke-width:2;stroke:rgb(255,255,255)\"/><rect x=\"440\" y=\"0\" width=\"55\" height=\"55\" style=\"fill:#bcbd22;stroke-width:2;stroke:rgb(255,255,255)\"/><rect x=\"495\" y=\"0\" width=\"55\" height=\"55\" style=\"fill:#17becf;stroke-width:2;stroke:rgb(255,255,255)\"/></svg>"
      ],
      "text/plain": [
       "[(0.12156862745098039, 0.4666666666666667, 0.7058823529411765),\n",
       " (1.0, 0.4980392156862745, 0.054901960784313725),\n",
       " (0.17254901960784313, 0.6274509803921569, 0.17254901960784313),\n",
       " (0.8392156862745098, 0.15294117647058825, 0.1568627450980392),\n",
       " (0.5803921568627451, 0.403921568627451, 0.7411764705882353),\n",
       " (0.5490196078431373, 0.33725490196078434, 0.29411764705882354),\n",
       " (0.8901960784313725, 0.4666666666666667, 0.7607843137254902),\n",
       " (0.4980392156862745, 0.4980392156862745, 0.4980392156862745),\n",
       " (0.7372549019607844, 0.7411764705882353, 0.13333333333333333),\n",
       " (0.09019607843137255, 0.7450980392156863, 0.8117647058823529)]"
      ]
     },
     "execution_count": 16,
     "metadata": {},
     "output_type": "execute_result"
    }
   ],
   "source": [
    "color_pal = sns.color_palette()\n",
    "color_pal"
   ]
  },
  {
   "cell_type": "code",
   "execution_count": 17,
   "id": "de8f32e4-0e63-4ace-890a-41a277d354b7",
   "metadata": {},
   "outputs": [
    {
     "data": {
      "text/plain": [
       "<AxesSubplot:xlabel='YEAR'>"
      ]
     },
     "execution_count": 17,
     "metadata": {},
     "output_type": "execute_result"
    },
    {
     "data": {
      "image/png": "[encoded data removed]",
      "text/plain": [
       "<Figure size 432x288 with 1 Axes>"
      ]
     },
     "metadata": {
      "needs_background": "light"
     },
     "output_type": "display_data"
    }
   ],
   "source": [
    "df_AL2.plot(style = '.')"
   ]
  },
  {
   "cell_type": "code",
   "execution_count": 18,
   "id": "7d702f82-6493-402a-8d28-f8c2f0b35625",
   "metadata": {},
   "outputs": [
    {
     "data": {
      "image/png": "[encoded data removed]",
      "text/plain": [
       "<Figure size 1080x360 with 1 Axes>"
      ]
     },
     "metadata": {
      "needs_background": "light"
     },
     "output_type": "display_data"
    }
   ],
   "source": [
    "train = df_AL2.loc[df_AL2.index < 2018]\n",
    "test = df_AL2.loc[df_AL2.index >= 2018]\n",
    "\n",
    "fig, ax = plt.subplots(figsize = (15, 5))\n",
    "train.plot(ax = ax, label = 'Training set')\n",
    "test.plot(ax = ax, label = 'Test set')\n",
    "plt.show()"
   ]
  },
  {
   "cell_type": "code",
   "execution_count": 19,
   "id": "01b50a67-f0cf-4d7f-9a2c-c48e0ef4db3b",
   "metadata": {},
   "outputs": [
    {
     "data": {
      "text/plain": [
       "Index(['DEATHS'], dtype='object')"
      ]
     },
     "execution_count": 19,
     "metadata": {},
     "output_type": "execute_result"
    }
   ],
   "source": [
    "df_AL2.columns"
   ]
  },
  {
   "cell_type": "code",
   "execution_count": 20,
   "id": "b87ca956-db38-4321-8281-cea07f4d8960",
   "metadata": {},
   "outputs": [
    {
     "ename": "NameError",
     "evalue": "name 'create_features' is not defined",
     "output_type": "error",
     "traceback": [
      "\u001b[1;31m---------------------------------------------------------------------------\u001b[0m",
      "\u001b[1;31mNameError\u001b[0m                                 Traceback (most recent call last)",
      "Input \u001b[1;32mIn [20]\u001b[0m, in \u001b[0;36m<cell line: 1>\u001b[1;34m()\u001b[0m\n\u001b[1;32m----> 1\u001b[0m train \u001b[38;5;241m=\u001b[39m \u001b[43mcreate_features\u001b[49m(train)\n\u001b[0;32m      2\u001b[0m test \u001b[38;5;241m=\u001b[39m create_features(test)\n\u001b[0;32m      4\u001b[0m df_AL2\u001b[38;5;241m.\u001b[39mcolumns\n",
      "\u001b[1;31mNameError\u001b[0m: name 'create_features' is not defined"
     ]
    }
   ],
   "source": [
    "train = create_features(train)\n",
    "test = create_features(test)\n",
    "\n",
    "df_AL2.columns\n",
    "\n",
    "FEATURES = ['']"
   ]
  },
  {
   "cell_type": "code",
   "execution_count": null,
   "id": "9df45dd4-728c-46f0-8658-29e5ed9611d9",
   "metadata": {},
   "outputs": [],
   "source": [
    "reg = xgb.XGBRFRegressor(n_estim = 1000)\n",
    "reg.fit"
   ]
  },
  {
   "cell_type": "code",
   "execution_count": null,
   "id": "5a30a39c-4887-45e9-9692-ae9f1e715c28",
   "metadata": {},
   "outputs": [],
   "source": []
  }
 ],
 "metadata": {
  "kernelspec": {
   "display_name": "Python 3 (ipykernel)",
   "language": "python",
   "name": "python3"
  },
  "language_info": {
   "codemirror_mode": {
    "name": "ipython",
    "version": 3
   },
   "file_extension": ".py",
   "mimetype": "text/x-python",
   "name": "python",
   "nbconvert_exporter": "python",
   "pygments_lexer": "ipython3",
   "version": "3.9.12"
  }
 },
 "nbformat": 4,
 "nbformat_minor": 5
}
